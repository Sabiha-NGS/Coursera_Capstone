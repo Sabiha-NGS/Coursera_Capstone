{
 "cells": [
  {
   "cell_type": "markdown",
   "metadata": {},
   "source": [
    "# Capstone Project - The Battle of Neighborhoods (Week 1) - An insight into the Italian Cuisine favoured localities in Hyderabad"
   ]
  },
  {
   "cell_type": "markdown",
   "metadata": {},
   "source": [
    "## Description and discussion of the background\n"
   ]
  },
  {
   "cell_type": "markdown",
   "metadata": {},
   "source": [
    "Hyderabad being one of the metropolitan cities of India has a population of about 9.7 million people [1]. Influenced by the Mughal rule, the Nizams city is known for an amalgam of South Indian and Mughals cuisines. The city of food lovers was listed as “creative city of gastronomy” by UNESCO [1]. Well known hyderabadi haleem and biryani carry the National Geographical Indications tag. Not just the Mughals, its cuisine has a great influence from the turkish, local telugu, Iranian and Marathwada cuisines [1].\n",
    "\n",
    "Though there are varied cuisines prefered by the localites, the city is still adapting to the food influences from other far off countries such as Italy, Mexico, Korean, Chinese etc. To open an Italian restaurant in Hyderabad, it needs some in depth analysis of the current Italian restaurants in the cities and their localities to find out an ideal place to open a new Italian restaurant which can attract enough customers. \n",
    "This analysis is being carried out to find out the areas in the city that have Italian restaurants, most favoured food items from these restaurants and ideal costs per two according to the locality. This analysis will help in zeroing in on an ideal place to open an Italian restaurant that would be accepted by the people living in those neighbourhoods. \n"
   ]
  },
  {
   "cell_type": "markdown",
   "metadata": {},
   "source": [
    "## Description of the Data\n"
   ]
  },
  {
   "cell_type": "markdown",
   "metadata": {},
   "source": [
    "For this analysis, I am considering the restaurant data in India from the Kaggle datasets (https://www.kaggle.com/ngokulakannan/zomato-india-restaurants2-lakh-restaurants-data).\n",
    "\n",
    "The dataset has already information on the restaurants, area, latitude, longitude, favoured item, rating, etc.\n",
    "\n",
    "To find the nearby neighbourhoods, I will be using the Foursquare location data.  By using this api I will get all the venues in each neighborhood.\n"
   ]
  },
  {
   "cell_type": "code",
   "execution_count": null,
   "metadata": {},
   "outputs": [],
   "source": []
  }
 ],
 "metadata": {
  "kernelspec": {
   "display_name": "Python 3",
   "language": "python",
   "name": "python3"
  },
  "language_info": {
   "codemirror_mode": {
    "name": "ipython",
    "version": 3
   },
   "file_extension": ".py",
   "mimetype": "text/x-python",
   "name": "python",
   "nbconvert_exporter": "python",
   "pygments_lexer": "ipython3",
   "version": "3.6.9"
  }
 },
 "nbformat": 4,
 "nbformat_minor": 4
}
